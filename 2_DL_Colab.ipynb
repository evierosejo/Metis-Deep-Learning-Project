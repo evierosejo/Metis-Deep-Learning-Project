{
  "nbformat": 4,
  "nbformat_minor": 0,
  "metadata": {
    "colab": {
      "name": "2-DL-Colab.ipynb",
      "provenance": [],
      "authorship_tag": "ABX9TyNgN6yCoto6WpfQyNVfHVqW",
      "include_colab_link": true
    },
    "kernelspec": {
      "name": "python3",
      "display_name": "Python 3"
    },
    "language_info": {
      "name": "python"
    }
  },
  "cells": [
    {
      "cell_type": "markdown",
      "metadata": {
        "id": "view-in-github",
        "colab_type": "text"
      },
      "source": [
        "<a href=\"https://colab.research.google.com/github/evierosejo/Metis-Deep-Learning-Project/blob/main/2_DL_Colab.ipynb\" target=\"_parent\"><img src=\"https://colab.research.google.com/assets/colab-badge.svg\" alt=\"Open In Colab\"/></a>"
      ]
    },
    {
      "cell_type": "code",
      "metadata": {
        "id": "S2Rw4ysLRCyX",
        "colab": {
          "base_uri": "https://localhost:8080/"
        },
        "outputId": "498887bd-3c93-4816-c8d9-b2e57067dbd0"
      },
      "source": [
        "import pickle\n",
        "from google.colab import drive\n",
        "drive.mount('/content/drive')\n",
        "\n",
        "X = pickle.load(open('/content/drive/My Drive/METIS/X.pickle', 'rb'))\n",
        "y = pickle.load(open('/content/drive/My Drive/METIS/y.pickle', 'rb')) "
      ],
      "execution_count": 9,
      "outputs": [
        {
          "output_type": "stream",
          "name": "stdout",
          "text": [
            "Mounted at /content/drive\n"
          ]
        }
      ]
    },
    {
      "cell_type": "code",
      "metadata": {
        "id": "dpJhqURERqQF"
      },
      "source": [
        "from sklearn.model_selection import train_test_split"
      ],
      "execution_count": 10,
      "outputs": []
    },
    {
      "cell_type": "code",
      "metadata": {
        "id": "R1Qz6BOvRsld"
      },
      "source": [
        "import numpy as np \n",
        "\n",
        "X_reshape = np.array(X).reshape((-1,224,224,3)) #100x100 images with 3 color channels\n",
        "\n",
        "X_train, X_test, y_train, y_test = (train_test_split(X_reshape, y, \n",
        "                                                     test_size = .2, random_state = 42))"
      ],
      "execution_count": 11,
      "outputs": []
    },
    {
      "cell_type": "code",
      "metadata": {
        "id": "v1M56YfRU4fU"
      },
      "source": [
        "from tensorflow.keras.utils import to_categorical\n",
        "\n",
        "y_train_cat = to_categorical(y_train)\n",
        "y_test_cat = to_categorical(y_test)"
      ],
      "execution_count": 12,
      "outputs": []
    },
    {
      "cell_type": "code",
      "metadata": {
        "id": "TpWQmkN3RsuS"
      },
      "source": [
        "import tensorflow as tf\n",
        "from tensorflow.keras.models import Sequential\n",
        "from tensorflow.keras.layers import InputLayer, Dense, Dropout, Activation, Flatten, Conv2D, MaxPooling2D\n",
        "from tensorflow.keras.preprocessing import image as image_utils\n",
        "from tensorflow.keras.applications.imagenet_utils import decode_predictions\n",
        "from tensorflow.keras.applications.imagenet_utils import preprocess_input\n",
        "from tensorflow.keras.applications import VGG16"
      ],
      "execution_count": 13,
      "outputs": []
    },
    {
      "cell_type": "code",
      "metadata": {
        "id": "niJ0auKzRsxB",
        "colab": {
          "base_uri": "https://localhost:8080/"
        },
        "outputId": "93faa4b5-ca4d-436f-d66c-29692f06100f"
      },
      "source": [
        "preprocess_input(X_train)\n",
        "preprocess_input(X_test)"
      ],
      "execution_count": 14,
      "outputs": [
        {
          "output_type": "execute_result",
          "data": {
            "text/plain": [
              "array([[[[-1.3939003e+01, -5.9778999e+01, -1.1468000e+02],\n",
              "         [-1.3939003e+01, -5.9778999e+01, -1.1468000e+02],\n",
              "         [-1.3939003e+01, -5.9778999e+01, -1.1468000e+02],\n",
              "         ...,\n",
              "         [-1.9939003e+01, -4.3778999e+01, -6.7680000e+01],\n",
              "         [-1.8939003e+01, -4.2778999e+01, -6.6680000e+01],\n",
              "         [-1.8939003e+01, -4.2778999e+01, -6.6680000e+01]],\n",
              "\n",
              "        [[-1.3939003e+01, -5.9778999e+01, -1.1468000e+02],\n",
              "         [-1.3939003e+01, -5.9778999e+01, -1.1468000e+02],\n",
              "         [-1.3939003e+01, -5.9778999e+01, -1.1468000e+02],\n",
              "         ...,\n",
              "         [-1.9939003e+01, -4.3778999e+01, -6.7680000e+01],\n",
              "         [-1.8939003e+01, -4.2778999e+01, -6.6680000e+01],\n",
              "         [-1.8939003e+01, -4.2778999e+01, -6.6680000e+01]],\n",
              "\n",
              "        [[-1.3939003e+01, -5.9778999e+01, -1.1468000e+02],\n",
              "         [-1.3939003e+01, -5.9778999e+01, -1.1468000e+02],\n",
              "         [-1.3939003e+01, -5.9778999e+01, -1.1468000e+02],\n",
              "         ...,\n",
              "         [-1.9939003e+01, -4.3778999e+01, -6.7680000e+01],\n",
              "         [-1.8939003e+01, -4.2778999e+01, -6.6680000e+01],\n",
              "         [-1.8939003e+01, -4.2778999e+01, -6.6680000e+01]],\n",
              "\n",
              "        ...,\n",
              "\n",
              "        [[ 1.3106100e+02,  1.1122100e+02,  8.8320000e+01],\n",
              "         [ 1.3106100e+02,  1.1122100e+02,  8.8320000e+01],\n",
              "         [ 1.3106100e+02,  1.1122100e+02,  8.8320000e+01],\n",
              "         ...,\n",
              "         [ 1.2906100e+02,  1.1122100e+02,  9.0320000e+01],\n",
              "         [ 1.2906100e+02,  1.1122100e+02,  9.0320000e+01],\n",
              "         [ 1.2906100e+02,  1.1122100e+02,  9.0320000e+01]],\n",
              "\n",
              "        [[ 1.3106100e+02,  1.1122100e+02,  8.8320000e+01],\n",
              "         [ 1.3106100e+02,  1.1122100e+02,  8.8320000e+01],\n",
              "         [ 1.3106100e+02,  1.1122100e+02,  8.8320000e+01],\n",
              "         ...,\n",
              "         [ 1.2906100e+02,  1.1122100e+02,  9.0320000e+01],\n",
              "         [ 1.2906100e+02,  1.1122100e+02,  9.0320000e+01],\n",
              "         [ 1.2906100e+02,  1.1122100e+02,  9.0320000e+01]],\n",
              "\n",
              "        [[ 1.3106100e+02,  1.1122100e+02,  8.8320000e+01],\n",
              "         [ 1.3106100e+02,  1.1122100e+02,  8.8320000e+01],\n",
              "         [ 1.3106100e+02,  1.1122100e+02,  8.8320000e+01],\n",
              "         ...,\n",
              "         [ 1.2906100e+02,  1.1122100e+02,  9.0320000e+01],\n",
              "         [ 1.2906100e+02,  1.1122100e+02,  9.0320000e+01],\n",
              "         [ 1.2906100e+02,  1.1122100e+02,  9.0320000e+01]]],\n",
              "\n",
              "\n",
              "       [[[ 2.9060997e+01, -2.2778999e+01, -9.0680000e+01],\n",
              "         [ 2.9060997e+01, -2.2778999e+01, -9.0680000e+01],\n",
              "         [ 2.9060997e+01, -2.2778999e+01, -9.0680000e+01],\n",
              "         ...,\n",
              "         [ 3.1060997e+01, -2.0778999e+01, -8.8680000e+01],\n",
              "         [ 3.1060997e+01, -2.0778999e+01, -8.8680000e+01],\n",
              "         [ 3.1060997e+01, -2.0778999e+01, -8.8680000e+01]],\n",
              "\n",
              "        [[ 2.9060997e+01, -2.2778999e+01, -9.0680000e+01],\n",
              "         [ 2.9060997e+01, -2.2778999e+01, -9.0680000e+01],\n",
              "         [ 2.9060997e+01, -2.2778999e+01, -9.0680000e+01],\n",
              "         ...,\n",
              "         [ 3.1060997e+01, -2.0778999e+01, -8.8680000e+01],\n",
              "         [ 3.1060997e+01, -2.0778999e+01, -8.8680000e+01],\n",
              "         [ 3.1060997e+01, -2.0778999e+01, -8.8680000e+01]],\n",
              "\n",
              "        [[ 2.8060997e+01, -2.2778999e+01, -9.1680000e+01],\n",
              "         [ 2.8060997e+01, -2.2778999e+01, -9.1680000e+01],\n",
              "         [ 2.8060997e+01, -2.2778999e+01, -9.1680000e+01],\n",
              "         ...,\n",
              "         [ 3.1060997e+01, -2.0778999e+01, -8.8680000e+01],\n",
              "         [ 3.1060997e+01, -2.0778999e+01, -8.8680000e+01],\n",
              "         [ 3.1060997e+01, -2.0778999e+01, -8.8680000e+01]],\n",
              "\n",
              "        ...,\n",
              "\n",
              "        [[ 3.9060997e+01, -1.6778999e+01, -9.7680000e+01],\n",
              "         [ 3.8060997e+01, -1.7778999e+01, -9.8680000e+01],\n",
              "         [ 3.7060997e+01, -1.8778999e+01, -9.9680000e+01],\n",
              "         ...,\n",
              "         [ 3.4060997e+01, -1.6778999e+01, -1.0168000e+02],\n",
              "         [ 3.3060997e+01, -1.7778999e+01, -1.0268000e+02],\n",
              "         [ 3.3060997e+01, -1.7778999e+01, -1.0268000e+02]],\n",
              "\n",
              "        [[ 4.2060997e+01, -1.3778999e+01, -9.4680000e+01],\n",
              "         [ 4.2060997e+01, -1.3778999e+01, -9.4680000e+01],\n",
              "         [ 4.1060997e+01, -1.5778999e+01, -9.6680000e+01],\n",
              "         ...,\n",
              "         [ 3.4060997e+01, -1.6778999e+01, -1.0168000e+02],\n",
              "         [ 3.3060997e+01, -1.7778999e+01, -1.0268000e+02],\n",
              "         [ 3.3060997e+01, -1.7778999e+01, -1.0268000e+02]],\n",
              "\n",
              "        [[ 4.2060997e+01, -1.3778999e+01, -9.4680000e+01],\n",
              "         [ 4.2060997e+01, -1.3778999e+01, -9.4680000e+01],\n",
              "         [ 4.1060997e+01, -1.4778999e+01, -9.6680000e+01],\n",
              "         ...,\n",
              "         [ 3.4060997e+01, -1.6778999e+01, -1.0168000e+02],\n",
              "         [ 3.3060997e+01, -1.7778999e+01, -1.0268000e+02],\n",
              "         [ 3.3060997e+01, -1.7778999e+01, -1.0268000e+02]]],\n",
              "\n",
              "\n",
              "       [[[ 4.2060997e+01,  1.9221001e+01,  3.1999969e-01],\n",
              "         [ 4.2060997e+01,  1.9221001e+01,  3.1999969e-01],\n",
              "         [ 4.4060997e+01,  2.0221001e+01,  1.3199997e+00],\n",
              "         ...,\n",
              "         [-8.7939003e+01, -1.0877900e+02, -1.2368000e+02],\n",
              "         [-8.7939003e+01, -1.0877900e+02, -1.2368000e+02],\n",
              "         [-8.7939003e+01, -1.0877900e+02, -1.2368000e+02]],\n",
              "\n",
              "        [[ 4.2060997e+01,  1.9221001e+01,  3.1999969e-01],\n",
              "         [ 4.2060997e+01,  1.9221001e+01,  3.1999969e-01],\n",
              "         [ 4.4060997e+01,  2.0221001e+01,  1.3199997e+00],\n",
              "         ...,\n",
              "         [-8.7939003e+01, -1.0877900e+02, -1.2368000e+02],\n",
              "         [-8.7939003e+01, -1.0877900e+02, -1.2368000e+02],\n",
              "         [-8.7939003e+01, -1.0877900e+02, -1.2368000e+02]],\n",
              "\n",
              "        [[ 4.3060997e+01,  2.1221001e+01,  2.3199997e+00],\n",
              "         [ 4.3060997e+01,  2.0221001e+01,  2.3199997e+00],\n",
              "         [ 4.5060997e+01,  2.1221001e+01,  3.3199997e+00],\n",
              "         ...,\n",
              "         [-8.6939003e+01, -1.0877900e+02, -1.2368000e+02],\n",
              "         [-8.6939003e+01, -1.0877900e+02, -1.2368000e+02],\n",
              "         [-8.6939003e+01, -1.0877900e+02, -1.2368000e+02]],\n",
              "\n",
              "        ...,\n",
              "\n",
              "        [[ 9.1060997e+01,  8.4221001e+01,  7.8320000e+01],\n",
              "         [ 9.1060997e+01,  8.4221001e+01,  7.8320000e+01],\n",
              "         [ 9.0060997e+01,  8.2221001e+01,  7.5320000e+01],\n",
              "         ...,\n",
              "         [ 8.0609970e+00, -3.7778999e+01, -1.0268000e+02],\n",
              "         [ 7.0609970e+00, -3.7778999e+01, -1.0368000e+02],\n",
              "         [ 7.0609970e+00, -3.7778999e+01, -1.0368000e+02]],\n",
              "\n",
              "        [[ 9.0060997e+01,  8.3221001e+01,  7.7320000e+01],\n",
              "         [ 9.0060997e+01,  8.3221001e+01,  7.7320000e+01],\n",
              "         [ 8.9060997e+01,  8.1221001e+01,  7.3320000e+01],\n",
              "         ...,\n",
              "         [ 5.0609970e+00, -3.9778999e+01, -1.0468000e+02],\n",
              "         [ 4.0609970e+00, -4.0778999e+01, -1.0468000e+02],\n",
              "         [ 4.0609970e+00, -4.0778999e+01, -1.0468000e+02]],\n",
              "\n",
              "        [[ 9.0060997e+01,  8.3221001e+01,  7.7320000e+01],\n",
              "         [ 9.0060997e+01,  8.3221001e+01,  7.7320000e+01],\n",
              "         [ 8.8060997e+01,  8.1221001e+01,  7.4320000e+01],\n",
              "         ...,\n",
              "         [ 5.0609970e+00, -3.9778999e+01, -1.0368000e+02],\n",
              "         [ 4.0609970e+00, -4.0778999e+01, -1.0468000e+02],\n",
              "         [ 4.0609970e+00, -4.0778999e+01, -1.0468000e+02]]],\n",
              "\n",
              "\n",
              "       ...,\n",
              "\n",
              "\n",
              "       [[[ 8.2060997e+01,  6.0221001e+01,  4.5320000e+01],\n",
              "         [ 8.2060997e+01,  6.0221001e+01,  4.5320000e+01],\n",
              "         [ 8.2060997e+01,  6.0221001e+01,  4.5320000e+01],\n",
              "         ...,\n",
              "         [ 7.9060997e+01,  5.5221001e+01,  4.3320000e+01],\n",
              "         [ 7.9060997e+01,  5.5221001e+01,  4.3320000e+01],\n",
              "         [ 7.9060997e+01,  5.5221001e+01,  4.3320000e+01]],\n",
              "\n",
              "        [[ 8.2060997e+01,  6.0221001e+01,  4.5320000e+01],\n",
              "         [ 8.2060997e+01,  6.0221001e+01,  4.5320000e+01],\n",
              "         [ 8.2060997e+01,  6.0221001e+01,  4.5320000e+01],\n",
              "         ...,\n",
              "         [ 7.9060997e+01,  5.5221001e+01,  4.3320000e+01],\n",
              "         [ 7.9060997e+01,  5.5221001e+01,  4.3320000e+01],\n",
              "         [ 7.9060997e+01,  5.5221001e+01,  4.3320000e+01]],\n",
              "\n",
              "        [[ 8.2060997e+01,  6.0221001e+01,  4.5320000e+01],\n",
              "         [ 8.2060997e+01,  6.0221001e+01,  4.5320000e+01],\n",
              "         [ 8.2060997e+01,  6.0221001e+01,  4.5320000e+01],\n",
              "         ...,\n",
              "         [ 7.9060997e+01,  5.5221001e+01,  4.3320000e+01],\n",
              "         [ 7.9060997e+01,  5.5221001e+01,  4.3320000e+01],\n",
              "         [ 7.9060997e+01,  5.5221001e+01,  4.3320000e+01]],\n",
              "\n",
              "        ...,\n",
              "\n",
              "        [[ 6.0997009e-02, -5.0778999e+01, -1.1968000e+02],\n",
              "         [ 6.0997009e-02, -5.0778999e+01, -1.1968000e+02],\n",
              "         [-9.3900299e-01, -5.1778999e+01, -1.1968000e+02],\n",
              "         ...,\n",
              "         [-5.1939003e+01, -1.0077900e+02, -1.2368000e+02],\n",
              "         [-5.0939003e+01, -9.9778999e+01, -1.2368000e+02],\n",
              "         [-5.0939003e+01, -9.9778999e+01, -1.2368000e+02]],\n",
              "\n",
              "        [[-9.3900299e-01, -4.9778999e+01, -1.2068000e+02],\n",
              "         [-9.3900299e-01, -4.9778999e+01, -1.2068000e+02],\n",
              "         [-9.3900299e-01, -4.9778999e+01, -1.2068000e+02],\n",
              "         ...,\n",
              "         [-5.1939003e+01, -1.0077900e+02, -1.2368000e+02],\n",
              "         [-5.0939003e+01, -1.0077900e+02, -1.2368000e+02],\n",
              "         [-5.0939003e+01, -1.0077900e+02, -1.2368000e+02]],\n",
              "\n",
              "        [[-9.3900299e-01, -4.8778999e+01, -1.2068000e+02],\n",
              "         [-9.3900299e-01, -4.8778999e+01, -1.2068000e+02],\n",
              "         [-9.3900299e-01, -4.9778999e+01, -1.2068000e+02],\n",
              "         ...,\n",
              "         [-5.1939003e+01, -1.0077900e+02, -1.2368000e+02],\n",
              "         [-5.0939003e+01, -1.0077900e+02, -1.2368000e+02],\n",
              "         [-5.0939003e+01, -1.0077900e+02, -1.2368000e+02]]],\n",
              "\n",
              "\n",
              "       [[[ 1.2106100e+02,  1.0922100e+02,  1.0532000e+02],\n",
              "         [ 1.2106100e+02,  1.0922100e+02,  1.0532000e+02],\n",
              "         [ 1.2106100e+02,  1.0922100e+02,  1.0532000e+02],\n",
              "         ...,\n",
              "         [ 1.1906100e+02,  1.0822100e+02,  1.0132000e+02],\n",
              "         [ 1.1906100e+02,  1.0822100e+02,  1.0132000e+02],\n",
              "         [ 1.1906100e+02,  1.0822100e+02,  1.0132000e+02]],\n",
              "\n",
              "        [[ 1.2106100e+02,  1.0922100e+02,  1.0532000e+02],\n",
              "         [ 1.2106100e+02,  1.0922100e+02,  1.0532000e+02],\n",
              "         [ 1.2106100e+02,  1.0922100e+02,  1.0532000e+02],\n",
              "         ...,\n",
              "         [ 1.1906100e+02,  1.0822100e+02,  1.0132000e+02],\n",
              "         [ 1.1906100e+02,  1.0822100e+02,  1.0132000e+02],\n",
              "         [ 1.1906100e+02,  1.0822100e+02,  1.0132000e+02]],\n",
              "\n",
              "        [[ 1.2106100e+02,  1.0922100e+02,  1.0532000e+02],\n",
              "         [ 1.2106100e+02,  1.0922100e+02,  1.0532000e+02],\n",
              "         [ 1.2106100e+02,  1.0922100e+02,  1.0532000e+02],\n",
              "         ...,\n",
              "         [ 1.1906100e+02,  1.0822100e+02,  1.0132000e+02],\n",
              "         [ 1.1906100e+02,  1.0822100e+02,  1.0132000e+02],\n",
              "         [ 1.1906100e+02,  1.0822100e+02,  1.0132000e+02]],\n",
              "\n",
              "        ...,\n",
              "\n",
              "        [[ 7.0060997e+01,  5.6221001e+01,  5.2320000e+01],\n",
              "         [ 7.0060997e+01,  5.6221001e+01,  5.2320000e+01],\n",
              "         [ 7.0060997e+01,  5.6221001e+01,  5.2320000e+01],\n",
              "         ...,\n",
              "         [ 4.2060997e+01,  2.4221001e+01,  1.9320000e+01],\n",
              "         [ 4.2060997e+01,  2.4221001e+01,  1.9320000e+01],\n",
              "         [ 4.2060997e+01,  2.4221001e+01,  1.9320000e+01]],\n",
              "\n",
              "        [[ 6.8060997e+01,  5.4221001e+01,  5.0320000e+01],\n",
              "         [ 6.8060997e+01,  5.4221001e+01,  5.0320000e+01],\n",
              "         [ 6.8060997e+01,  5.4221001e+01,  5.0320000e+01],\n",
              "         ...,\n",
              "         [ 4.1060997e+01,  2.3221001e+01,  1.8320000e+01],\n",
              "         [ 4.1060997e+01,  2.3221001e+01,  1.8320000e+01],\n",
              "         [ 4.1060997e+01,  2.3221001e+01,  1.8320000e+01]],\n",
              "\n",
              "        [[ 6.8060997e+01,  5.4221001e+01,  5.0320000e+01],\n",
              "         [ 6.8060997e+01,  5.4221001e+01,  5.0320000e+01],\n",
              "         [ 6.8060997e+01,  5.4221001e+01,  5.0320000e+01],\n",
              "         ...,\n",
              "         [ 4.1060997e+01,  2.3221001e+01,  1.8320000e+01],\n",
              "         [ 4.1060997e+01,  2.3221001e+01,  1.8320000e+01],\n",
              "         [ 4.1060997e+01,  2.3221001e+01,  1.8320000e+01]]],\n",
              "\n",
              "\n",
              "       [[[ 1.2206100e+02,  1.0022100e+02,  8.5320000e+01],\n",
              "         [ 1.2206100e+02,  1.0022100e+02,  8.5320000e+01],\n",
              "         [ 1.2506100e+02,  1.0222100e+02,  8.7320000e+01],\n",
              "         ...,\n",
              "         [-1.2939003e+01, -3.3778999e+01, -6.2680000e+01],\n",
              "         [-4.8939003e+01, -6.9778999e+01, -9.8680000e+01],\n",
              "         [-4.8939003e+01, -6.9778999e+01, -9.8680000e+01]],\n",
              "\n",
              "        [[ 1.2206100e+02,  1.0022100e+02,  8.5320000e+01],\n",
              "         [ 1.2206100e+02,  1.0022100e+02,  8.5320000e+01],\n",
              "         [ 1.2406100e+02,  1.0222100e+02,  8.7320000e+01],\n",
              "         ...,\n",
              "         [-1.2939003e+01, -3.3778999e+01, -6.2680000e+01],\n",
              "         [-4.8939003e+01, -6.9778999e+01, -9.8680000e+01],\n",
              "         [-4.8939003e+01, -6.9778999e+01, -9.8680000e+01]],\n",
              "\n",
              "        [[ 1.2306100e+02,  1.0122100e+02,  8.5320000e+01],\n",
              "         [ 1.2306100e+02,  1.0122100e+02,  8.5320000e+01],\n",
              "         [ 1.2506100e+02,  1.0322100e+02,  8.8320000e+01],\n",
              "         ...,\n",
              "         [-1.3939003e+01, -3.4778999e+01, -6.3680000e+01],\n",
              "         [-4.6939003e+01, -6.7778999e+01, -9.6680000e+01],\n",
              "         [-4.6939003e+01, -6.7778999e+01, -9.6680000e+01]],\n",
              "\n",
              "        ...,\n",
              "\n",
              "        [[ 1.3406100e+02,  1.1722100e+02,  1.0232000e+02],\n",
              "         [ 1.3406100e+02,  1.1722100e+02,  1.0232000e+02],\n",
              "         [ 1.3406100e+02,  1.1722100e+02,  1.0232000e+02],\n",
              "         ...,\n",
              "         [ 1.2206100e+02,  1.0422100e+02,  8.5320000e+01],\n",
              "         [ 1.2206100e+02,  1.0422100e+02,  8.5320000e+01],\n",
              "         [ 1.2206100e+02,  1.0422100e+02,  8.5320000e+01]],\n",
              "\n",
              "        [[ 1.3406100e+02,  1.1722100e+02,  1.0232000e+02],\n",
              "         [ 1.3406100e+02,  1.1722100e+02,  1.0232000e+02],\n",
              "         [ 1.3406100e+02,  1.1722100e+02,  1.0232000e+02],\n",
              "         ...,\n",
              "         [ 1.2506100e+02,  1.0722100e+02,  8.8320000e+01],\n",
              "         [ 1.2406100e+02,  1.0622100e+02,  8.7320000e+01],\n",
              "         [ 1.2406100e+02,  1.0622100e+02,  8.7320000e+01]],\n",
              "\n",
              "        [[ 1.3406100e+02,  1.1722100e+02,  1.0232000e+02],\n",
              "         [ 1.3406100e+02,  1.1722100e+02,  1.0232000e+02],\n",
              "         [ 1.3406100e+02,  1.1722100e+02,  1.0232000e+02],\n",
              "         ...,\n",
              "         [ 1.2506100e+02,  1.0722100e+02,  8.8320000e+01],\n",
              "         [ 1.2406100e+02,  1.0622100e+02,  8.7320000e+01],\n",
              "         [ 1.2406100e+02,  1.0622100e+02,  8.7320000e+01]]]],\n",
              "      dtype=float32)"
            ]
          },
          "metadata": {},
          "execution_count": 14
        }
      ]
    },
    {
      "cell_type": "code",
      "metadata": {
        "id": "L2sfzb_ZRszy",
        "colab": {
          "base_uri": "https://localhost:8080/"
        },
        "outputId": "63864d7c-5d54-4247-cd0f-45707ead2ed0"
      },
      "source": [
        "vgg = VGG16(weights=\"imagenet\", input_shape=X_train[0].shape, include_top=False)\n",
        "vgg.trainable = False\n",
        "vgg.summary()"
      ],
      "execution_count": 15,
      "outputs": [
        {
          "output_type": "stream",
          "name": "stdout",
          "text": [
            "Downloading data from https://storage.googleapis.com/tensorflow/keras-applications/vgg16/vgg16_weights_tf_dim_ordering_tf_kernels_notop.h5\n",
            "58892288/58889256 [==============================] - 1s 0us/step\n",
            "58900480/58889256 [==============================] - 1s 0us/step\n",
            "Model: \"vgg16\"\n",
            "_________________________________________________________________\n",
            " Layer (type)                Output Shape              Param #   \n",
            "=================================================================\n",
            " input_1 (InputLayer)        [(None, 224, 224, 3)]     0         \n",
            "                                                                 \n",
            " block1_conv1 (Conv2D)       (None, 224, 224, 64)      1792      \n",
            "                                                                 \n",
            " block1_conv2 (Conv2D)       (None, 224, 224, 64)      36928     \n",
            "                                                                 \n",
            " block1_pool (MaxPooling2D)  (None, 112, 112, 64)      0         \n",
            "                                                                 \n",
            " block2_conv1 (Conv2D)       (None, 112, 112, 128)     73856     \n",
            "                                                                 \n",
            " block2_conv2 (Conv2D)       (None, 112, 112, 128)     147584    \n",
            "                                                                 \n",
            " block2_pool (MaxPooling2D)  (None, 56, 56, 128)       0         \n",
            "                                                                 \n",
            " block3_conv1 (Conv2D)       (None, 56, 56, 256)       295168    \n",
            "                                                                 \n",
            " block3_conv2 (Conv2D)       (None, 56, 56, 256)       590080    \n",
            "                                                                 \n",
            " block3_conv3 (Conv2D)       (None, 56, 56, 256)       590080    \n",
            "                                                                 \n",
            " block3_pool (MaxPooling2D)  (None, 28, 28, 256)       0         \n",
            "                                                                 \n",
            " block4_conv1 (Conv2D)       (None, 28, 28, 512)       1180160   \n",
            "                                                                 \n",
            " block4_conv2 (Conv2D)       (None, 28, 28, 512)       2359808   \n",
            "                                                                 \n",
            " block4_conv3 (Conv2D)       (None, 28, 28, 512)       2359808   \n",
            "                                                                 \n",
            " block4_pool (MaxPooling2D)  (None, 14, 14, 512)       0         \n",
            "                                                                 \n",
            " block5_conv1 (Conv2D)       (None, 14, 14, 512)       2359808   \n",
            "                                                                 \n",
            " block5_conv2 (Conv2D)       (None, 14, 14, 512)       2359808   \n",
            "                                                                 \n",
            " block5_conv3 (Conv2D)       (None, 14, 14, 512)       2359808   \n",
            "                                                                 \n",
            " block5_pool (MaxPooling2D)  (None, 7, 7, 512)         0         \n",
            "                                                                 \n",
            "=================================================================\n",
            "Total params: 14,714,688\n",
            "Trainable params: 0\n",
            "Non-trainable params: 14,714,688\n",
            "_________________________________________________________________\n"
          ]
        }
      ]
    },
    {
      "cell_type": "code",
      "metadata": {
        "id": "mwPkON72Rs2X"
      },
      "source": [
        "feature_model = Sequential([\n",
        "    vgg])\n",
        "\n",
        "feature_model.add(Flatten())\n",
        "feature_model.add(Dense(64, activation='relu'))\n",
        "\n",
        "feature_model.add(Dense(6, activation='softmax'))\n",
        "\n",
        "feature_model.compile(\n",
        "    loss='categorical_crossentropy',\n",
        "    optimizer='adam',\n",
        "    metrics=['accuracy'],\n",
        ")"
      ],
      "execution_count": 16,
      "outputs": []
    },
    {
      "cell_type": "code",
      "metadata": {
        "id": "bhkYScviRs42",
        "colab": {
          "base_uri": "https://localhost:8080/"
        },
        "outputId": "e35df04a-4763-4591-ac73-9f59a603ac88"
      },
      "source": [
        "from tensorflow.keras.callbacks import EarlyStopping\n",
        "\n",
        "\n",
        "es = EarlyStopping(monitor='val_accuracy', mode='max', patience=5,  restore_best_weights=True)\n",
        "\n",
        "history = feature_model.fit(X_train,\n",
        "          y_train_cat, \n",
        "          epochs=5, \n",
        "          validation_split=0.2, \n",
        "          batch_size=32, \n",
        "          callbacks=[es])"
      ],
      "execution_count": 17,
      "outputs": [
        {
          "output_type": "stream",
          "name": "stdout",
          "text": [
            "Epoch 1/5\n",
            "104/104 [==============================] - 2036s 20s/step - loss: 1.8793 - accuracy: 0.7902 - val_loss: 0.5363 - val_accuracy: 0.8418\n",
            "Epoch 2/5\n",
            "104/104 [==============================] - 2040s 20s/step - loss: 0.1827 - accuracy: 0.9311 - val_loss: 0.4549 - val_accuracy: 0.8901\n",
            "Epoch 3/5\n",
            "104/104 [==============================] - 2031s 20s/step - loss: 0.0950 - accuracy: 0.9646 - val_loss: 0.6005 - val_accuracy: 0.8913\n",
            "Epoch 4/5\n",
            "104/104 [==============================] - 2031s 20s/step - loss: 0.0388 - accuracy: 0.9843 - val_loss: 0.7189 - val_accuracy: 0.8973\n",
            "Epoch 5/5\n",
            "104/104 [==============================] - 2029s 20s/step - loss: 0.0294 - accuracy: 0.9888 - val_loss: 0.5878 - val_accuracy: 0.9070\n"
          ]
        }
      ]
    },
    {
      "cell_type": "code",
      "metadata": {
        "id": "bx1pHSg6Rs7T",
        "colab": {
          "base_uri": "https://localhost:8080/"
        },
        "outputId": "6dea673b-a7a4-4391-91dd-0ec2ff7e884e"
      },
      "source": [
        "from sklearn.metrics import accuracy_score, confusion_matrix\n",
        "import numpy as np\n",
        "\n",
        "preds = np.argmax(feature_model.predict(X_test), axis=-1)\n",
        "round(accuracy_score(np.array(y_test), preds),4)"
      ],
      "execution_count": 18,
      "outputs": [
        {
          "output_type": "execute_result",
          "data": {
            "text/plain": [
              "0.9237"
            ]
          },
          "metadata": {},
          "execution_count": 18
        }
      ]
    },
    {
      "cell_type": "code",
      "metadata": {
        "id": "pyajrzZyRs9l",
        "colab": {
          "base_uri": "https://localhost:8080/",
          "height": 281
        },
        "outputId": "2b2bef05-6553-4b7a-86cf-2542d6dd4df7"
      },
      "source": [
        "import matplotlib.pyplot as plt\n",
        "plt.plot(history.history['accuracy'])\n",
        "plt.legend(['accuracy'])\n",
        "plt.title('Accuracy v. Epoch')\n",
        "plt.savefig('vgg16_accuracy.png', bbox_inches='tight', transparent=True)"
      ],
      "execution_count": 30,
      "outputs": [
        {
          "output_type": "display_data",
          "data": {
            "image/png": "[encoded data removed]",
            "text/plain": [
              "<Figure size 432x288 with 1 Axes>"
            ]
          },
          "metadata": {
            "needs_background": "light"
          }
        }
      ]
    },
    {
      "cell_type": "code",
      "metadata": {
        "colab": {
          "base_uri": "https://localhost:8080/"
        },
        "id": "rMsPQOPv7sUW",
        "outputId": "20a0bd32-3d31-479e-fb80-8001db6b5a76"
      },
      "source": [
        "pip install visualkeras"
      ],
      "execution_count": 25,
      "outputs": [
        {
          "output_type": "stream",
          "name": "stdout",
          "text": [
            "Collecting visualkeras\n",
            "  Downloading visualkeras-0.0.2-py3-none-any.whl (12 kB)\n",
            "Requirement already satisfied: numpy>=1.18.1 in /usr/local/lib/python3.7/dist-packages (from visualkeras) (1.19.5)\n",
            "Collecting aggdraw>=1.3.11\n",
            "  Downloading aggdraw-1.3.12-cp37-cp37m-manylinux2010_x86_64.whl (795 kB)\n",
            "\u001b[K     |████████████████████████████████| 795 kB 5.8 MB/s \n",
            "\u001b[?25hRequirement already satisfied: pillow>=6.2.0 in /usr/local/lib/python3.7/dist-packages (from visualkeras) (7.1.2)\n",
            "Installing collected packages: aggdraw, visualkeras\n",
            "Successfully installed aggdraw-1.3.12 visualkeras-0.0.2\n"
          ]
        }
      ]
    },
    {
      "cell_type": "code",
      "metadata": {
        "id": "cg3ec7lWRtAh",
        "colab": {
          "base_uri": "https://localhost:8080/",
          "height": 55
        },
        "outputId": "8472dba8-340b-4ac1-9c99-4a46c316fcec"
      },
      "source": [
        "import visualkeras\n",
        "\n",
        "visualkeras.layered_view(feature_model, legend=True)  # font is optional!\n",
        "visualkeras.layered_view(feature_model, to_file='featuremodel_output.png') # write to disk\n",
        "visualkeras.layered_view(feature_model, to_file='featuremodel_output.png').show() # write and show\n",
        "\n",
        "visualkeras.layered_view(feature_model)"
      ],
      "execution_count": 27,
      "outputs": [
        {
          "output_type": "execute_result",
          "data": {
            "image/png": "[encoded data removed]",
            "text/plain": [
              "<PIL.Image.Image image mode=RGBA size=550x38 at 0x7FD9286CBC10>"
            ]
          },
          "metadata": {},
          "execution_count": 27
        }
      ]
    },
    {
      "cell_type": "code",
      "metadata": {
        "colab": {
          "base_uri": "https://localhost:8080/"
        },
        "id": "rzVauTar8iZj",
        "outputId": "c67cd52b-2c02-4fbc-a9ee-38005e21ed3b"
      },
      "source": [
        "from sklearn.metrics import accuracy_score, confusion_matrix, f1_score\n",
        "\n",
        "preds = np.argmax(feature_model.predict(X_test), axis=-1)\n",
        "print(round(accuracy_score(np.array(y_test), preds),4))\n",
        "print(f1_score(np.array(y_test), preds, average='weighted'))"
      ],
      "execution_count": 29,
      "outputs": [
        {
          "output_type": "stream",
          "name": "stdout",
          "text": [
            "0.9237\n",
            "0.9211452696514634\n"
          ]
        }
      ]
    },
    {
      "cell_type": "code",
      "metadata": {
        "id": "HGwZWkI08oVN"
      },
      "source": [
        "%matplotlib inline\n",
        "from sklearn.metrics import confusion_matrix\n",
        "import itertools\n",
        "import matplotlib.pyplot as plt\n",
        "\n",
        "cm_plot_labels = ['Many Varroa', 'Missing Queen', 'Ants','Few Varroa', 'Healthy', 'Hive Theft']\n",
        "\n",
        "def plot_confusion_matrix(cm, classes,\n",
        "                        normalize=False,\n",
        "                        title='Confusion matrix',\n",
        "                        cmap=plt.cm.Blues):\n",
        "    \"\"\"\n",
        "    This function prints and plots the confusion matrix.\n",
        "    Normalization can be applied by setting `normalize=True`.\n",
        "    \"\"\"\n",
        "    plt.imshow(cm, interpolation='nearest', cmap=cmap)\n",
        "    plt.title(title)\n",
        "    plt.colorbar()\n",
        "    tick_marks = np.arange(len(classes))\n",
        "    plt.xticks(tick_marks, classes, rotation=45)\n",
        "    plt.yticks(tick_marks, classes)\n",
        "\n",
        "    if normalize:\n",
        "        cm = cm.astype('float') / cm.sum(axis=1)[:, np.newaxis]\n",
        "        print(\"Normalized confusion matrix\")\n",
        "    else:\n",
        "        print('Confusion matrix, without normalization')\n",
        "\n",
        "    print(cm)\n",
        "\n",
        "    thresh = cm.max() / 2.\n",
        "    for i, j in itertools.product(range(cm.shape[0]), range(cm.shape[1])):\n",
        "        plt.text(j, i, cm[i, j],\n",
        "            horizontalalignment=\"center\",\n",
        "            color=\"white\" if cm[i, j] > thresh else \"black\")\n",
        "\n",
        "    plt.tight_layout()\n",
        "    plt.ylabel('True label')\n",
        "    plt.xlabel('Predicted label')"
      ],
      "execution_count": 31,
      "outputs": []
    },
    {
      "cell_type": "code",
      "metadata": {
        "colab": {
          "base_uri": "https://localhost:8080/",
          "height": 433
        },
        "id": "qBg_6keE8och",
        "outputId": "58dbe9e4-790d-402d-eb83-edd063187c94"
      },
      "source": [
        "cm = confusion_matrix(y_true=y_test, y_pred=preds)\n",
        "\n",
        "plot_confusion_matrix(cm=cm, classes=cm_plot_labels, title='Confusion Matrix')\n",
        "plt.savefig('vgg_cm.png', bbox_inches='tight', transparent=True)"
      ],
      "execution_count": 34,
      "outputs": [
        {
          "output_type": "stream",
          "name": "stdout",
          "text": [
            "Confusion matrix, without normalization\n",
            "[[ 30  10   1   0   0   0]\n",
            " [  5 666   2   2   0   2]\n",
            " [  1   8 101   0   0   4]\n",
            " [  1   6   1  76   0   1]\n",
            " [  4   2   0   0   1   0]\n",
            " [  0   2  27   0   0  82]]\n"
          ]
        },
        {
          "output_type": "display_data",
          "data": {
            "image/png": "[encoded data removed]",
            "text/plain": [
              "<Figure size 432x288 with 2 Axes>"
            ]
          },
          "metadata": {
            "needs_background": "light"
          }
        }
      ]
    },
    {
      "cell_type": "code",
      "metadata": {
        "id": "Q7pSoJk98oev"
      },
      "source": [
        "show_images()"
      ],
      "execution_count": null,
      "outputs": []
    },
    {
      "cell_type": "code",
      "metadata": {
        "id": "kcJqXMFC8ohD"
      },
      "source": [
        ""
      ],
      "execution_count": null,
      "outputs": []
    },
    {
      "cell_type": "code",
      "metadata": {
        "id": "iXecT_u38olS"
      },
      "source": [
        ""
      ],
      "execution_count": null,
      "outputs": []
    }
  ]
}